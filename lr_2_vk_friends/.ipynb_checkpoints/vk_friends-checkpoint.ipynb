{
 "cells": [
  {
   "cell_type": "code",
   "execution_count": 1,
   "metadata": {},
   "outputs": [],
   "source": [
    "import vk\n",
    "import requests\n",
    "import time\n",
    "import json\n",
    "import networkx as nx\n",
    "import matplotlib.pyplot as plt\n",
    "\n",
    "from IPython.display import Image\n",
    "from IPython.core.display import HTML\n",
    "from PIL import Image\n",
    "from io import BytesIO\n",
    "from matplotlib.pyplot import imshowy"
   ]
  },
  {
   "cell_type": "markdown",
   "metadata": {},
   "source": [
    "### Defining an API that simplifies access to core functions. (Access, Friends, Name, Photo)"
   ]
  },
  {
   "cell_type": "code",
   "execution_count": 3,
   "metadata": {},
   "outputs": [],
   "source": [
    "class WebService:\n",
    "    \n",
    "    def __init__(self):\n",
    "        self.token = '2e8afce6f0f7ace2cc77737187540e29b857c40379f25f6711ee9b315ff687d383d3a8a3db3b378498cab'\n",
    "        self.session = vk.Session(access_token=self.token)\n",
    "        self.api = vk.API(self.session, v='5.101')\n",
    "        \n",
    "    def get_friends(self, id_: int, count=None) -> [int]:\n",
    "        friends = self.api.friends.get(user_id=id_, count=count)\n",
    "        return friends['items']\n",
    "    \n",
    "    def get_user_name(self, id_: int) -> str:\n",
    "        user = self.api.users.get(user_id=id_)\n",
    "        return user\n",
    "    \n",
    "    def get_user_photo(self, id_: int) -> str:\n",
    "        photo = self.api.users.get(user_id=id_,fields='photo_100')\n",
    "        return photo[0]\n",
    "    \n",
    "    def show_user_photo(self, id_: int) -> Image:\n",
    "        response = self.get_user_photo(id_)\n",
    "        return Image(url= response['photo_100'], width=100, height=100)"
   ]
  },
  {
   "cell_type": "code",
   "execution_count": 2,
   "metadata": {},
   "outputs": [],
   "source": [
    "IDS = (\n",
    "    559640345,  # - кирилл\n",
    "    29759351,  # - Павел\n",
    "    120435774,  # - Алена\n",
    "    78517271,  # - Олег\n",
    "    55564167,  # - Артем\n",
    "    202514864,  # - Артем\n",
    "    79818398,  # - Никита\n",
    "    18214699,  # - Раиль\n",
    "    322913600,  # - Иван\n",
    "    32418429,  # - Игнат\n",
    "    32784038,  # - Глеб\n",
    "    55355150,  # - Роман\n",
    "    65817487,  # - Алекс\n",
    "    76637395,  # - Роман\n",
    "    31710423,  # - Василий\n",
    "    557916962,  # - Максим\n",
    "    44907648  # - Миланочка\n",
    ")\n",
    "\n",
    "COUNT = 30\n",
    "DEEP = 3"
   ]
  },
  {
   "cell_type": "code",
   "execution_count": 3,
   "metadata": {},
   "outputs": [],
   "source": [
    "graph = nx.Graph()\n",
    "ws = WebService()"
   ]
  },
  {
   "cell_type": "code",
   "execution_count": 4,
   "metadata": {},
   "outputs": [
    {
     "name": "stdout",
     "output_type": "stream",
     "text": [
      "30. This profile is private. request_params = {'method': 'friends.get', 'oauth': '1', 'v': '5.101', 'user_id': '31710423', 'count': '30'}\n",
      "30. This profile is private. request_params = {'method': 'friends.get', 'oauth': '1', 'v': '5.101', 'user_id': '557916962', 'count': '30'}\n"
     ]
    }
   ],
   "source": [
    "users = list(IDS)\n",
    "edges = []\n",
    "\n",
    "\n",
    "for id_ in IDS:\n",
    "    try:\n",
    "        # get friends for current id\n",
    "        friends = ws.get_friends(id_, count=COUNT) \n",
    "        users.extend(friends)\n",
    "        edges.extend([(id_, fr) for fr in friends])\n",
    "        # Becouse of the limit on the number of requests, you must simulate a program stop\n",
    "        time.sleep(12)\n",
    "    # check if user has private profile     \n",
    "    except vk.api.VkAPIError as err:\n",
    "        print(err)"
   ]
  },
  {
   "cell_type": "code",
   "execution_count": 5,
   "metadata": {},
   "outputs": [
    {
     "name": "stdout",
     "output_type": "stream",
     "text": [
      "Iteration: 1\n",
      "30. This profile is private. request_params = {'method': 'friends.get', 'oauth': '1', 'v': '5.101', 'user_id': '9883526', 'count': '30'}\n",
      "30. This profile is private. request_params = {'method': 'friends.get', 'oauth': '1', 'v': '5.101', 'user_id': '14209118', 'count': '30'}\n",
      "30. This profile is private. request_params = {'method': 'friends.get', 'oauth': '1', 'v': '5.101', 'user_id': '25701289', 'count': '30'}\n",
      "30. This profile is private. request_params = {'method': 'friends.get', 'oauth': '1', 'v': '5.101', 'user_id': '35637086', 'count': '30'}\n",
      "30. This profile is private. request_params = {'method': 'friends.get', 'oauth': '1', 'v': '5.101', 'user_id': '2871924', 'count': '30'}\n",
      "30. This profile is private. request_params = {'method': 'friends.get', 'oauth': '1', 'v': '5.101', 'user_id': '17512545', 'count': '30'}\n",
      "30. This profile is private. request_params = {'method': 'friends.get', 'oauth': '1', 'v': '5.101', 'user_id': '23185438', 'count': '30'}\n",
      "30. This profile is private. request_params = {'method': 'friends.get', 'oauth': '1', 'v': '5.101', 'user_id': '35796194', 'count': '30'}\n",
      "30. This profile is private. request_params = {'method': 'friends.get', 'oauth': '1', 'v': '5.101', 'user_id': '37912567', 'count': '30'}\n",
      "30. This profile is private. request_params = {'method': 'friends.get', 'oauth': '1', 'v': '5.101', 'user_id': '12437566', 'count': '30'}\n",
      "30. This profile is private. request_params = {'method': 'friends.get', 'oauth': '1', 'v': '5.101', 'user_id': '17363980', 'count': '30'}\n",
      "30. This profile is private. request_params = {'method': 'friends.get', 'oauth': '1', 'v': '5.101', 'user_id': '23620427', 'count': '30'}\n",
      "30. This profile is private. request_params = {'method': 'friends.get', 'oauth': '1', 'v': '5.101', 'user_id': '25130018', 'count': '30'}\n",
      "30. This profile is private. request_params = {'method': 'friends.get', 'oauth': '1', 'v': '5.101', 'user_id': '33106094', 'count': '30'}\n",
      "30. This profile is private. request_params = {'method': 'friends.get', 'oauth': '1', 'v': '5.101', 'user_id': '5840191', 'count': '30'}\n",
      "30. This profile is private. request_params = {'method': 'friends.get', 'oauth': '1', 'v': '5.101', 'user_id': '22592056', 'count': '30'}\n",
      "30. This profile is private. request_params = {'method': 'friends.get', 'oauth': '1', 'v': '5.101', 'user_id': '24703958', 'count': '30'}\n",
      "30. This profile is private. request_params = {'method': 'friends.get', 'oauth': '1', 'v': '5.101', 'user_id': '45567517', 'count': '30'}\n",
      "30. This profile is private. request_params = {'method': 'friends.get', 'oauth': '1', 'v': '5.101', 'user_id': '50231946', 'count': '30'}\n",
      "30. This profile is private. request_params = {'method': 'friends.get', 'oauth': '1', 'v': '5.101', 'user_id': '4528047', 'count': '30'}\n",
      "30. This profile is private. request_params = {'method': 'friends.get', 'oauth': '1', 'v': '5.101', 'user_id': '54916034', 'count': '30'}\n",
      "18. User was deleted or banned. request_params = {'method': 'friends.get', 'oauth': '1', 'v': '5.101', 'user_id': '8591390', 'count': '30'}\n",
      "30. This profile is private. request_params = {'method': 'friends.get', 'oauth': '1', 'v': '5.101', 'user_id': '12019754', 'count': '30'}\n",
      "30. This profile is private. request_params = {'method': 'friends.get', 'oauth': '1', 'v': '5.101', 'user_id': '20010473', 'count': '30'}\n",
      "30. This profile is private. request_params = {'method': 'friends.get', 'oauth': '1', 'v': '5.101', 'user_id': '24528807', 'count': '30'}\n",
      "30. This profile is private. request_params = {'method': 'friends.get', 'oauth': '1', 'v': '5.101', 'user_id': '29027980', 'count': '30'}\n",
      "30. This profile is private. request_params = {'method': 'friends.get', 'oauth': '1', 'v': '5.101', 'user_id': '1497323', 'count': '30'}\n",
      "30. This profile is private. request_params = {'method': 'friends.get', 'oauth': '1', 'v': '5.101', 'user_id': '2484011', 'count': '30'}\n",
      "30. This profile is private. request_params = {'method': 'friends.get', 'oauth': '1', 'v': '5.101', 'user_id': '5305282', 'count': '30'}\n",
      "30. This profile is private. request_params = {'method': 'friends.get', 'oauth': '1', 'v': '5.101', 'user_id': '9595981', 'count': '30'}\n",
      "30. This profile is private. request_params = {'method': 'friends.get', 'oauth': '1', 'v': '5.101', 'user_id': '22290138', 'count': '30'}\n",
      "30. This profile is private. request_params = {'method': 'friends.get', 'oauth': '1', 'v': '5.101', 'user_id': '9595981', 'count': '30'}\n",
      "30. This profile is private. request_params = {'method': 'friends.get', 'oauth': '1', 'v': '5.101', 'user_id': '22290138', 'count': '30'}\n",
      "30. This profile is private. request_params = {'method': 'friends.get', 'oauth': '1', 'v': '5.101', 'user_id': '29316974', 'count': '30'}\n",
      "30. This profile is private. request_params = {'method': 'friends.get', 'oauth': '1', 'v': '5.101', 'user_id': '56241496', 'count': '30'}\n",
      "30. This profile is private. request_params = {'method': 'friends.get', 'oauth': '1', 'v': '5.101', 'user_id': '57037078', 'count': '30'}\n",
      "30. This profile is private. request_params = {'method': 'friends.get', 'oauth': '1', 'v': '5.101', 'user_id': '72991935', 'count': '30'}\n",
      "30. This profile is private. request_params = {'method': 'friends.get', 'oauth': '1', 'v': '5.101', 'user_id': '86241724', 'count': '30'}\n",
      "30. This profile is private. request_params = {'method': 'friends.get', 'oauth': '1', 'v': '5.101', 'user_id': '87392434', 'count': '30'}\n",
      "30. This profile is private. request_params = {'method': 'friends.get', 'oauth': '1', 'v': '5.101', 'user_id': '2871924', 'count': '30'}\n",
      "18. User was deleted or banned. request_params = {'method': 'friends.get', 'oauth': '1', 'v': '5.101', 'user_id': '20096952', 'count': '30'}\n",
      "30. This profile is private. request_params = {'method': 'friends.get', 'oauth': '1', 'v': '5.101', 'user_id': '37912567', 'count': '30'}\n",
      "30. This profile is private. request_params = {'method': 'friends.get', 'oauth': '1', 'v': '5.101', 'user_id': '46025131', 'count': '30'}\n",
      "18. User was deleted or banned. request_params = {'method': 'friends.get', 'oauth': '1', 'v': '5.101', 'user_id': '50522682', 'count': '30'}\n",
      "30. This profile is private. request_params = {'method': 'friends.get', 'oauth': '1', 'v': '5.101', 'user_id': '7868029', 'count': '30'}\n",
      "30. This profile is private. request_params = {'method': 'friends.get', 'oauth': '1', 'v': '5.101', 'user_id': '13951737', 'count': '30'}\n",
      "30. This profile is private. request_params = {'method': 'friends.get', 'oauth': '1', 'v': '5.101', 'user_id': '16813548', 'count': '30'}\n",
      "30. This profile is private. request_params = {'method': 'friends.get', 'oauth': '1', 'v': '5.101', 'user_id': '19708002', 'count': '30'}\n",
      "30. This profile is private. request_params = {'method': 'friends.get', 'oauth': '1', 'v': '5.101', 'user_id': '39029931', 'count': '30'}\n",
      "30. This profile is private. request_params = {'method': 'friends.get', 'oauth': '1', 'v': '5.101', 'user_id': '48369482', 'count': '30'}\n",
      "30. This profile is private. request_params = {'method': 'friends.get', 'oauth': '1', 'v': '5.101', 'user_id': '74608192', 'count': '30'}\n",
      "30. This profile is private. request_params = {'method': 'friends.get', 'oauth': '1', 'v': '5.101', 'user_id': '82057821', 'count': '30'}\n",
      "30. This profile is private. request_params = {'method': 'friends.get', 'oauth': '1', 'v': '5.101', 'user_id': '82620107', 'count': '30'}\n",
      "30. This profile is private. request_params = {'method': 'friends.get', 'oauth': '1', 'v': '5.101', 'user_id': '99990091', 'count': '30'}\n",
      "30. This profile is private. request_params = {'method': 'friends.get', 'oauth': '1', 'v': '5.101', 'user_id': '345386', 'count': '30'}\n",
      "30. This profile is private. request_params = {'method': 'friends.get', 'oauth': '1', 'v': '5.101', 'user_id': '2871734', 'count': '30'}\n",
      "18. User was deleted or banned. request_params = {'method': 'friends.get', 'oauth': '1', 'v': '5.101', 'user_id': '2915256', 'count': '30'}\n",
      "30. This profile is private. request_params = {'method': 'friends.get', 'oauth': '1', 'v': '5.101', 'user_id': '40075662', 'count': '30'}\n",
      "30. This profile is private. request_params = {'method': 'friends.get', 'oauth': '1', 'v': '5.101', 'user_id': '42738246', 'count': '30'}\n",
      "30. This profile is private. request_params = {'method': 'friends.get', 'oauth': '1', 'v': '5.101', 'user_id': '43846066', 'count': '30'}\n",
      "30. This profile is private. request_params = {'method': 'friends.get', 'oauth': '1', 'v': '5.101', 'user_id': '631769', 'count': '30'}\n",
      "30. This profile is private. request_params = {'method': 'friends.get', 'oauth': '1', 'v': '5.101', 'user_id': '5078358', 'count': '30'}\n",
      "30. This profile is private. request_params = {'method': 'friends.get', 'oauth': '1', 'v': '5.101', 'user_id': '13951737', 'count': '30'}\n",
      "30. This profile is private. request_params = {'method': 'friends.get', 'oauth': '1', 'v': '5.101', 'user_id': '21390435', 'count': '30'}\n",
      "30. This profile is private. request_params = {'method': 'friends.get', 'oauth': '1', 'v': '5.101', 'user_id': '27338502', 'count': '30'}\n",
      "30. This profile is private. request_params = {'method': 'friends.get', 'oauth': '1', 'v': '5.101', 'user_id': '48369482', 'count': '30'}\n",
      "Iteration: 2\n"
     ]
    }
   ],
   "source": [
    "k = 1\n",
    "new_users = list(filter(lambda x: x not in IDS, users))\n",
    "\n",
    "while k <= DEEP:\n",
    "    temp = []\n",
    "    print(f'Iteration: {k}')\n",
    "    \n",
    "    for user in new_users:\n",
    "        try:\n",
    "            friend = ws.get_friends(user, count=COUNT)\n",
    "            users.extend(friends)\n",
    "            temp.extend(friends)\n",
    "            edges.extend([(id_, fr) for fr in friend])\n",
    "            \n",
    "            time.sleep(12)\n",
    "        except vk.api.VkAPIError as err:\n",
    "            print(err)\n",
    "            \n",
    "    new_users = list(filter(lambda x: x not in users, temp))\n",
    "    users.extend(new_users)\n",
    "    k += 1"
   ]
  },
  {
   "cell_type": "markdown",
   "metadata": {},
   "source": [
    "### Due to the long processing of requests to VK, we need save the received data in json"
   ]
  },
  {
   "cell_type": "code",
   "execution_count": 17,
   "metadata": {},
   "outputs": [],
   "source": [
    "with open('new_ids', 'w') as f:\n",
    "    json.dump(users, f)\n",
    "    \n",
    "with open('new_edges', 'w') as f:\n",
    "    json.dump(edges, f)"
   ]
  },
  {
   "cell_type": "markdown",
   "metadata": {},
   "source": [
    "### Adding the resulting nodes and edges to the graph."
   ]
  },
  {
   "cell_type": "code",
   "execution_count": 7,
   "metadata": {},
   "outputs": [],
   "source": [
    "graph.add_nodes_from(users)\n",
    "graph.add_edges_from(edges)"
   ]
  },
  {
   "cell_type": "markdown",
   "metadata": {},
   "source": [
    "### Check the validity of the received data and ignore users that have lock profile"
   ]
  },
  {
   "cell_type": "code",
   "execution_count": 8,
   "metadata": {},
   "outputs": [
    {
     "name": "stdout",
     "output_type": "stream",
     "text": [
      "No path between 559640345 and 557916962.\n",
      "No path between 29759351 and 557916962.\n",
      "No path between 120435774 and 557916962.\n",
      "No path between 78517271 and 557916962.\n",
      "No path between 55564167 and 557916962.\n",
      "No path between 202514864 and 557916962.\n",
      "No path between 79818398 and 557916962.\n",
      "No path between 18214699 and 557916962.\n",
      "No path between 322913600 and 557916962.\n",
      "No path between 32418429 and 557916962.\n",
      "No path between 32784038 and 557916962.\n",
      "No path between 55355150 and 557916962.\n",
      "No path between 65817487 and 557916962.\n",
      "No path between 76637395 and 557916962.\n",
      "No path between 31710423 and 557916962.\n"
     ]
    }
   ],
   "source": [
    "paths = []\n",
    "for i, v in enumerate(IDS):\n",
    "    if v != IDS[-1]:\n",
    "        for j in range(1, len(IDS) - i - 1):\n",
    "            try:\n",
    "                path = nx.shortest_path(graph, IDS[i], IDS[i + j])\n",
    "                paths.extend(path)\n",
    "            except nx.NodeNotFound as err:\n",
    "                print(err)\n",
    "            except nx.NetworkXNoPath as err:\n",
    "                print(err)"
   ]
  },
  {
   "cell_type": "code",
   "execution_count": 9,
   "metadata": {},
   "outputs": [],
   "source": [
    "nodes_to_delete = list(filter(lambda x: x not in set(paths), users))"
   ]
  },
  {
   "cell_type": "markdown",
   "metadata": {},
   "source": [
    "#### Removing invalid data"
   ]
  },
  {
   "cell_type": "code",
   "execution_count": 11,
   "metadata": {},
   "outputs": [],
   "source": [
    "graph.remove_nodes_from(nodes_to_delete)"
   ]
  },
  {
   "cell_type": "code",
   "execution_count": null,
   "metadata": {},
   "outputs": [],
   "source": [
    "### Draw graph using netrworkx function\n",
    "\n",
    "plt.figure()\n",
    "plt.axis('off')\n",
    "fig = plt.figure(figsize=(20,20))\n",
    "\n",
    "pos=nx.spring_layout(graph)\n",
    "d = nx.degree(graph)\n",
    "nx.draw_networkx_edges(graph, pos, alpha=0.4, edge_color='gray')\n",
    "\n",
    "plt.savefig(\"path.png\")\n",
    "plt.show()"
   ]
  },
  {
   "cell_type": "markdown",
   "metadata": {},
   "source": [
    "### Using the API we defined above, print information about the user who has the most popular profile"
   ]
  },
  {
   "cell_type": "code",
   "execution_count": 13,
   "metadata": {},
   "outputs": [
    {
     "name": "stdout",
     "output_type": "stream",
     "text": [
      "id: 44907648, Значение: 0.9999978599583134, Имя: Мила Воротникова\n"
     ]
    }
   ],
   "source": [
    "central_cont = nx.betweenness_centrality(graph)\n",
    "central_id = max(central_cont, key=central_cont.get)\n",
    "ws_central = ws.get_user_name(central_id)[0]\n",
    "ws_central_name = ws_central['first_name'] + ' ' + ws_central['last_name']\n",
    "print(f'id: {central_id}, Значение: {central_cont[central_id]}, Имя: {ws_central_name}')"
   ]
  },
  {
   "cell_type": "code",
   "execution_count": 14,
   "metadata": {},
   "outputs": [],
   "source": [
    "url = ws.get_user_photo(central_id)['photo_100']"
   ]
  },
  {
   "cell_type": "code",
   "execution_count": 15,
   "metadata": {},
   "outputs": [],
   "source": [
    "response = requests.get(url)\n",
    "img = Image.open(BytesIO(response.content))"
   ]
  },
  {
   "cell_type": "code",
   "execution_count": 16,
   "metadata": {},
   "outputs": [
    {
     "data": {
      "text/plain": [
       "<matplotlib.image.AxesImage at 0xa1614c850>"
      ]
     },
     "execution_count": 16,
     "metadata": {},
     "output_type": "execute_result"
    },
    {
     "data": {
      "image/png": "[encoded data removed]",
      "text/plain": [
       "<Figure size 432x288 with 1 Axes>"
      ]
     },
     "metadata": {
      "needs_background": "light"
     },
     "output_type": "display_data"
    }
   ],
   "source": [
    "imshow(img)"
   ]
  }
 ],
 "metadata": {
  "kernelspec": {
   "display_name": "Python 3",
   "language": "python",
   "name": "python3"
  },
  "language_info": {
   "codemirror_mode": {
    "name": "ipython",
    "version": 3
   },
   "file_extension": ".py",
   "mimetype": "text/x-python",
   "name": "python",
   "nbconvert_exporter": "python",
   "pygments_lexer": "ipython3",
   "version": "3.7.3"
  }
 },
 "nbformat": 4,
 "nbformat_minor": 4
}
