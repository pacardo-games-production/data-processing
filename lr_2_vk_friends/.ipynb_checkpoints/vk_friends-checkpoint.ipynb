{
 "cells": [
  {
   "cell_type": "code",
   "execution_count": 76,
   "metadata": {
    "scrolled": false
   },
   "outputs": [
    {
     "name": "stdout",
     "output_type": "stream",
     "text": [
      "1\n"
     ]
    },
    {
     "data": {
      "text/plain": [
       "<__main__.node at 0x21c1d391400>"
      ]
     },
     "execution_count": 76,
     "metadata": {},
     "output_type": "execute_result"
    }
   ],
   "source": [
    "import vk\n",
    "class web_service :\n",
    "    def __init__(self) :\n",
    "        self.token = '2e8afce6f0f7ace2cc77737187540e29b857c40379f25f6711ee9b315ff687d383d3a8a3db3b378498cab'\n",
    "        self.session = vk.Session(access_token = self.token)\n",
    "        self.api = vk.API(session, v = '5.101')\n",
    "    def get_friends(self, id : int ) -> [int]:\n",
    "        friends = api.friends.get(user_id = 55564167)\n",
    "        return friends[\"items\"]\n",
    "    \n",
    "    def get_user_name(self, id: int) -> str :\n",
    "        user = api.users.get(user_id = id)\n",
    "        return user\n",
    "        \n"
   ]
  },
  {
   "cell_type": "code",
   "execution_count": null,
   "metadata": {},
   "outputs": [],
   "source": [
    "class node :\n",
    "    def __init__(self, id, root = None, r_brother = None, childrens: [node] = None ) :\n",
    "        self.id = id\n",
    "        self.root = root\n",
    "        self.r_brother = r_brother\n",
    "        self.childrens = childrens"
   ]
  },
  {
   "cell_type": "code",
   "execution_count": null,
   "metadata": {},
   "outputs": [],
   "source": [
    "class tree :\n",
    "    def __init__(self, root) :\n",
    "        self.root = root\n",
    "        \n",
    "    def add_child(self, parent_id : int, child_node : node) :\n",
    "        parent = self.find_node(parent_id)\n",
    "        if (root != None) :\n",
    "            child_node\n",
    "        pass\n",
    "    \n",
    "    def find_node(self,id : int) -> node :\n",
    "        if (self.root.id == id) :\n",
    "            print(root.id)\n",
    "            return self.root\n",
    "        left_child = root.childrens[0]\n",
    "        while (left_child != None ) :\n",
    "            current_node = left_child\n",
    "            while(current_node!= None) :\n",
    "                for child in current_node.childrens :\n",
    "                    if (child.id == id) :\n",
    "                        return child\n",
    "                current_node = current_node.r_brother    \n",
    "            left_child = left_child.childrens[0] if left_child.child != None else None\n",
    "        \n",
    "        \n"
   ]
  },
  {
   "cell_type": "code",
   "execution_count": null,
   "metadata": {},
   "outputs": [],
   "source": []
  },
  {
   "cell_type": "code",
   "execution_count": null,
   "metadata": {},
   "outputs": [],
   "source": [
    "ws = web_service()    \n",
    "ws.get_user_name(55564167)   \n",
    "ws.get_friends(55564167)\n",
    "ids = [ \n",
    "    559640345,# - кирилл\n",
    "    29759351,# - Павел\n",
    "    120435774,# - Алена\n",
    "    78517271,# - Олег\n",
    "    55564167,# - Артем \n",
    "    202514864,# - Артем \n",
    "    79818398,# - Никита\n",
    "    18214699,# - Раиль\n",
    "    25689500,# - Альберт\n",
    "    322913600,# - Иван\n",
    "    32418429,# - Игнат\n",
    "    32784038,# - Глеб\n",
    "    55355150,# - Роман\n",
    "    65817487,# - Алекс\n",
    "    76637395,# - Роман\n",
    "    31710423,# - Василий\n",
    "    557916962,# - Максим\n",
    "    44907648# - Миланочка\n",
    "]\n",
    "root = node(1)\n",
    "node1 = node(2)\n",
    "node2 = node(3)\n",
    "node1.r_brother = node2\n",
    "root.childrens = [node1, node2]\n",
    "tree = tree(root)\n",
    "root.id\n",
    "type(root.id)\n",
    "tree.find_node(1)"
   ]
  }
 ],
 "metadata": {
  "kernelspec": {
   "display_name": "Python 3",
   "language": "python",
   "name": "python3"
  },
  "language_info": {
   "codemirror_mode": {
    "name": "ipython",
    "version": 3
   },
   "file_extension": ".py",
   "mimetype": "text/x-python",
   "name": "python",
   "nbconvert_exporter": "python",
   "pygments_lexer": "ipython3",
   "version": "3.7.3"
  }
 },
 "nbformat": 4,
 "nbformat_minor": 2
}
