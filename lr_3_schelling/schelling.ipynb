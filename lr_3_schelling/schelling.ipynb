{
 "cells": [
  {
   "cell_type": "code",
   "execution_count": 1,
   "metadata": {},
   "outputs": [],
   "source": [
    "import numpy as np\n",
    "import random\n",
    "import matplotlib.pyplot as plt"
   ]
  },
  {
   "cell_type": "code",
   "execution_count": 2,
   "metadata": {},
   "outputs": [],
   "source": [
    "class SchellingModel:\n",
    "    ''' The Schelling model of segregation.\n",
    "        \n",
    "        Args:\n",
    "            height (int): The height of the table.\n",
    "            width (int): The width of the table.\n",
    "\n",
    "        Attributes:\n",
    "            table (ndarray): table of colors.\n",
    "            unhappy (list): list of unhappy cells.\n",
    "    '''\n",
    "    \n",
    "    def __init__(self, height, width):\n",
    "        table = self.create_table(height, width)\n",
    "        self._table = table\n",
    "        self._unhappy = self.get_unhappy(table)\n",
    "        self._empties = self.get_empty(table)\n",
    "         \n",
    "    @property\n",
    "    def table(self):\n",
    "        return self._table\n",
    "    \n",
    "    @property\n",
    "    def unhappy(self):\n",
    "        return self._unhappy\n",
    "    \n",
    "    @staticmethod\n",
    "    def create_table(height: 'int', width: 'int') -> 'ndarray':\n",
    "        ''' Creates table with specified height and width, then fills it with colors.\n",
    "        Blue is 1, red is -1, white is 0.\n",
    "        Static method.\n",
    "        \n",
    "        Args:\n",
    "            height (int): The height of the table.\n",
    "            width (int): The width of the table.\n",
    "\n",
    "        Returns:\n",
    "            Table (ndarray).\n",
    "        '''\n",
    "        \n",
    "        colored = height*width * 45 // 100\n",
    "        uncolored = height*width - 2*colored\n",
    "\n",
    "        cells = [-1]*colored + [1]*colored + [0]*uncolored\n",
    "        random.shuffle(cells)\n",
    "        table = np.array(cells).reshape(height, width)\n",
    "        return table\n",
    "    \n",
    "    @staticmethod\n",
    "    def get_empty(table: 'ndarray') -> 'list':\n",
    "        ''' Returns list of empty cells in table. Static method.\n",
    "        \n",
    "        Args:\n",
    "            table (ndarray): The table.\n",
    "\n",
    "        Returns:\n",
    "            List of empty cells (`list` of `int`).\n",
    "        '''\n",
    "        \n",
    "        empties = []\n",
    "        for i,j in np.ndindex(table.shape):\n",
    "            if table[i,j] == 0:\n",
    "                empties.append((i,j))\n",
    "        return empties\n",
    "\n",
    "    @staticmethod\n",
    "    def get_unhappy(table: 'ndarray') -> 'list':\n",
    "        ''' Returns list of unhappy cells in table.\n",
    "        The cell is unhappy if it has less then 2 neighbours with same color.\n",
    "        Static method.\n",
    "        \n",
    "        Args:\n",
    "            table (ndarray): The table.\n",
    "\n",
    "        Returns:\n",
    "            List of unhappy cells (`list` of `int`).\n",
    "        '''\n",
    "        \n",
    "        unhappy = []\n",
    "        for i,j in np.ndindex(table.shape):\n",
    "            if table[i,j] == 0:\n",
    "                continue\n",
    "                \n",
    "            friends = 0\n",
    "            if i != 0 and j != 0 and table[i,j] == table[i-1,j-1]:\n",
    "                friends += 1\n",
    "            if i != 0 and table[i,j] == table[i-1,j]:\n",
    "                friends += 1\n",
    "            if i != 0 and j != table.shape[0]-1 and table[i,j] == table[i-1,j+1]:\n",
    "                friends += 1\n",
    "            if j != 0 and table[i,j] == table[i,j-1]:\n",
    "                friends += 1\n",
    "            if j != table.shape[0]-1 and table[i,j] == table[i,j+1]:\n",
    "                friends += 1\n",
    "            if i != table.shape[1]-1 and j != 0 and table[i,j] == table[i+1,j-1]:\n",
    "                friends += 1\n",
    "            if i != table.shape[1]-1 and table[i,j] == table[i+1,j]:\n",
    "                friends += 1\n",
    "            if i != table.shape[1]-1 and j != table.shape[0]-1 and table[i,j] == table[i+1,j+1]:\n",
    "                friends += 1\n",
    "\n",
    "            if friends < 2:\n",
    "                unhappy.append((i,j))\n",
    "        return unhappy\n",
    "    \n",
    "    def step(self, count=1, print_steps=False):\n",
    "        ''' Returns list of unhappy cells in table.\n",
    "        The cell is unhappy if it has less then 2 neighbours with same color.\n",
    "        \n",
    "        Args:\n",
    "            count (int): The table.\n",
    "\n",
    "        Returns:\n",
    "            List of unhappy cells (`list` of `int`).\n",
    "        '''\n",
    "        \n",
    "        table = self._table\n",
    "        unhappy = self._unhappy\n",
    "        empties = self._empties\n",
    "        \n",
    "        if count < 1:\n",
    "            print('Wrong steps count')\n",
    "            return\n",
    "        \n",
    "        for i in range(count):\n",
    "            if not len(unhappy):\n",
    "                print('Everyone is happy')\n",
    "                return\n",
    "            \n",
    "            unhappy_cell = random.choice(unhappy)\n",
    "            empty_cell = random.choice(empties)\n",
    "            \n",
    "            table[empty_cell[0], empty_cell[1]] = table[unhappy_cell[0], unhappy_cell[1]]\n",
    "            table[unhappy_cell[0], unhappy_cell[1]] = 0\n",
    "            \n",
    "            unhappy = self.get_unhappy(table)\n",
    "            empties = self.get_empty(table)\n",
    "            \n",
    "            if (print_steps):\n",
    "                print(f'{unhappy_cell} is moved to {empty_cell}')\n",
    "        \n",
    "        self._table = table\n",
    "        self._unhappy = unhappy\n",
    "        self._empties = empties\n",
    "\n",
    "    def plot_table(self):\n",
    "        ''' Plots colored table.\n",
    "        '''\n",
    "        \n",
    "        table = self._table\n",
    "        fig, ax = plt.subplots()\n",
    "        im = ax.imshow(table, cmap='RdYlBu')\n",
    "\n",
    "        ax.set_xticklabels(['']*table.shape[0]);\n",
    "        ax.set_yticklabels(['']*table.shape[1]);\n",
    "        ax.set_xticks(np.arange(-.5, table.shape[0], 1), minor=True);\n",
    "        ax.set_yticks(np.arange(-.5, table.shape[1], 1), minor=True);\n",
    "\n",
    "        ax.grid(which='minor', color='w', linestyle='-', linewidth=1)\n",
    "\n",
    "        fig.tight_layout()\n",
    "        plt.show()"
   ]
  },
  {
   "cell_type": "code",
   "execution_count": 3,
   "metadata": {},
   "outputs": [
    {
     "name": "stdout",
     "output_type": "stream",
     "text": [
      "[[-1 -1  1 -1  1  0  1 -1  1 -1]\n",
      " [-1  1 -1 -1  1  1  1  0  1 -1]\n",
      " [-1 -1  1  1  1 -1  1  1  1  1]\n",
      " [ 1  1  1  1 -1  0  1 -1  1 -1]\n",
      " [ 1 -1  1  0 -1  1 -1  1 -1  1]\n",
      " [ 1 -1  0 -1  1 -1  1 -1  1 -1]\n",
      " [ 1 -1  0  1 -1 -1  1  1 -1 -1]\n",
      " [ 0 -1 -1 -1 -1 -1 -1  1  0 -1]\n",
      " [-1  1 -1  1  0 -1  1  1 -1  1]\n",
      " [ 1 -1  1 -1  1  0 -1 -1 -1  1]]\n"
     ]
    },
    {
     "data": {
      "image/png": "[encoded data removed]",
      "text/plain": [
       "<Figure size 432x288 with 1 Axes>"
      ]
     },
     "metadata": {
      "needs_background": "light"
     },
     "output_type": "display_data"
    }
   ],
   "source": [
    "schelling = SchellingModel(10,10)\n",
    "print(schelling.table)\n",
    "schelling.plot_table()"
   ]
  },
  {
   "cell_type": "code",
   "execution_count": 4,
   "metadata": {},
   "outputs": [
    {
     "name": "stdout",
     "output_type": "stream",
     "text": [
      "(0, 2) is moved to (5, 2)\n",
      "(6, 0) is moved to (0, 5)\n",
      "(3, 9) is moved to (7, 8)\n"
     ]
    },
    {
     "data": {
      "image/png": "[encoded data removed]",
      "text/plain": [
       "<Figure size 432x288 with 1 Axes>"
      ]
     },
     "metadata": {
      "needs_background": "light"
     },
     "output_type": "display_data"
    }
   ],
   "source": [
    "schelling.step(count=3, print_steps=True)\n",
    "schelling.plot_table()"
   ]
  },
  {
   "cell_type": "code",
   "execution_count": 5,
   "metadata": {},
   "outputs": [
    {
     "name": "stdout",
     "output_type": "stream",
     "text": [
      "Everyone is happy\n"
     ]
    },
    {
     "data": {
      "image/png": "[encoded data removed]",
      "text/plain": [
       "<Figure size 432x288 with 1 Axes>"
      ]
     },
     "metadata": {
      "needs_background": "light"
     },
     "output_type": "display_data"
    }
   ],
   "source": [
    "schelling.step(count=35)\n",
    "schelling.plot_table()"
   ]
  },
  {
   "cell_type": "code",
   "execution_count": null,
   "metadata": {},
   "outputs": [],
   "source": []
  }
 ],
 "metadata": {
  "kernelspec": {
   "display_name": "Python 3",
   "language": "python",
   "name": "python3"
  },
  "language_info": {
   "codemirror_mode": {
    "name": "ipython",
    "version": 3
   },
   "file_extension": ".py",
   "mimetype": "text/x-python",
   "name": "python",
   "nbconvert_exporter": "python",
   "pygments_lexer": "ipython3",
   "version": "3.7.0"
  }
 },
 "nbformat": 4,
 "nbformat_minor": 2
}
