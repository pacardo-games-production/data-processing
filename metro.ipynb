{
 "cells": [
  {
   "cell_type": "code",
   "execution_count": 1,
   "metadata": {},
   "outputs": [],
   "source": [
    "import numpy as np\n",
    "import pandas as pd\n",
    "import scipy\n",
    "from matplotlib import pylab, gridspec, pyplot as plt\n",
    "%matplotlib inline\n",
    "plt.style.use('fivethirtyeight')"
   ]
  },
  {
   "cell_type": "markdown",
   "metadata": {},
   "source": [
    "*Сохраняем данные*"
   ]
  },
  {
   "cell_type": "code",
   "execution_count": 42,
   "metadata": {},
   "outputs": [],
   "source": [
    "df = pd.read_csv(\"data.csv\", index_col=False)"
   ]
  },
  {
   "cell_type": "markdown",
   "metadata": {},
   "source": [
    "*Вид данных*"
   ]
  },
  {
   "cell_type": "code",
   "execution_count": 43,
   "metadata": {
    "scrolled": true
   },
   "outputs": [
    {
     "data": {
      "text/html": [
       "<div>\n",
       "<style scoped>\n",
       "    .dataframe tbody tr th:only-of-type {\n",
       "        vertical-align: middle;\n",
       "    }\n",
       "\n",
       "    .dataframe tbody tr th {\n",
       "        vertical-align: top;\n",
       "    }\n",
       "\n",
       "    .dataframe thead th {\n",
       "        text-align: right;\n",
       "    }\n",
       "</style>\n",
       "<table border=\"1\" class=\"dataframe\">\n",
       "  <thead>\n",
       "    <tr style=\"text-align: right;\">\n",
       "      <th></th>\n",
       "      <th>arr_line</th>\n",
       "      <th>dest_line</th>\n",
       "      <th>arr_station</th>\n",
       "      <th>dest_station</th>\n",
       "    </tr>\n",
       "  </thead>\n",
       "  <tbody>\n",
       "    <tr>\n",
       "      <td>0</td>\n",
       "      <td>Сокольническая линия</td>\n",
       "      <td>Сокольническая линия</td>\n",
       "      <td>Черкизовская</td>\n",
       "      <td>Преображенская площадь</td>\n",
       "    </tr>\n",
       "    <tr>\n",
       "      <td>1</td>\n",
       "      <td>Сокольническая линия</td>\n",
       "      <td>Сокольническая линия</td>\n",
       "      <td>Преображенская площадь</td>\n",
       "      <td>Сокольники</td>\n",
       "    </tr>\n",
       "    <tr>\n",
       "      <td>2</td>\n",
       "      <td>Сокольническая линия</td>\n",
       "      <td>Сокольническая линия</td>\n",
       "      <td>Сокольники</td>\n",
       "      <td>Красносельская</td>\n",
       "    </tr>\n",
       "    <tr>\n",
       "      <td>3</td>\n",
       "      <td>Сокольническая линия</td>\n",
       "      <td>Сокольническая линия</td>\n",
       "      <td>Красносельская</td>\n",
       "      <td>Комсомольская</td>\n",
       "    </tr>\n",
       "    <tr>\n",
       "      <td>4</td>\n",
       "      <td>Сокольническая линия</td>\n",
       "      <td>Сокольническая линия</td>\n",
       "      <td>Комсомольская</td>\n",
       "      <td>Красные ворота</td>\n",
       "    </tr>\n",
       "  </tbody>\n",
       "</table>\n",
       "</div>"
      ],
      "text/plain": [
       "               arr_line              dest_line              arr_station  \\\n",
       "0  Сокольническая линия   Сокольническая линия             Черкизовская   \n",
       "1  Сокольническая линия   Сокольническая линия   Преображенская площадь   \n",
       "2  Сокольническая линия   Сокольническая линия               Сокольники   \n",
       "3  Сокольническая линия   Сокольническая линия           Красносельская   \n",
       "4  Сокольническая линия   Сокольническая линия            Комсомольская   \n",
       "\n",
       "              dest_station  \n",
       "0   Преображенская площадь  \n",
       "1               Сокольники  \n",
       "2           Красносельская  \n",
       "3            Комсомольская  \n",
       "4           Красные ворота  "
      ]
     },
     "execution_count": 43,
     "metadata": {},
     "output_type": "execute_result"
    }
   ],
   "source": [
    "df.head()"
   ]
  },
  {
   "cell_type": "code",
   "execution_count": 44,
   "metadata": {
    "scrolled": true
   },
   "outputs": [],
   "source": [
    "df[\"arr_line\"] = \" \" + df[\"arr_line\"]"
   ]
  },
  {
   "cell_type": "markdown",
   "metadata": {},
   "source": [
    "*Преобразуем в однородные данные*"
   ]
  },
  {
   "cell_type": "code",
   "execution_count": 7,
   "metadata": {},
   "outputs": [],
   "source": [
    "new_df = pd.DataFrame(columns=['from', 'to'])"
   ]
  },
  {
   "cell_type": "code",
   "execution_count": 8,
   "metadata": {
    "scrolled": true
   },
   "outputs": [
    {
     "data": {
      "text/html": [
       "<div>\n",
       "<style scoped>\n",
       "    .dataframe tbody tr th:only-of-type {\n",
       "        vertical-align: middle;\n",
       "    }\n",
       "\n",
       "    .dataframe tbody tr th {\n",
       "        vertical-align: top;\n",
       "    }\n",
       "\n",
       "    .dataframe thead th {\n",
       "        text-align: right;\n",
       "    }\n",
       "</style>\n",
       "<table border=\"1\" class=\"dataframe\">\n",
       "  <thead>\n",
       "    <tr style=\"text-align: right;\">\n",
       "      <th></th>\n",
       "      <th>from</th>\n",
       "      <th>to</th>\n",
       "    </tr>\n",
       "  </thead>\n",
       "  <tbody>\n",
       "    <tr>\n",
       "      <td>0</td>\n",
       "      <td>Сокольническая линия Черкизовская</td>\n",
       "      <td>Сокольническая линия Преображенская площадь</td>\n",
       "    </tr>\n",
       "    <tr>\n",
       "      <td>1</td>\n",
       "      <td>Сокольническая линия Преображенская площадь</td>\n",
       "      <td>Сокольническая линия Сокольники</td>\n",
       "    </tr>\n",
       "    <tr>\n",
       "      <td>2</td>\n",
       "      <td>Сокольническая линия Сокольники</td>\n",
       "      <td>Сокольническая линия Красносельская</td>\n",
       "    </tr>\n",
       "    <tr>\n",
       "      <td>3</td>\n",
       "      <td>Сокольническая линия Красносельская</td>\n",
       "      <td>Сокольническая линия Комсомольская</td>\n",
       "    </tr>\n",
       "    <tr>\n",
       "      <td>4</td>\n",
       "      <td>Сокольническая линия Комсомольская</td>\n",
       "      <td>Сокольническая линия Красные ворота</td>\n",
       "    </tr>\n",
       "  </tbody>\n",
       "</table>\n",
       "</div>"
      ],
      "text/plain": [
       "                                           from  \\\n",
       "0             Сокольническая линия Черкизовская   \n",
       "1   Сокольническая линия Преображенская площадь   \n",
       "2               Сокольническая линия Сокольники   \n",
       "3           Сокольническая линия Красносельская   \n",
       "4            Сокольническая линия Комсомольская   \n",
       "\n",
       "                                             to  \n",
       "0   Сокольническая линия Преображенская площадь  \n",
       "1               Сокольническая линия Сокольники  \n",
       "2           Сокольническая линия Красносельская  \n",
       "3            Сокольническая линия Комсомольская  \n",
       "4           Сокольническая линия Красные ворота  "
      ]
     },
     "execution_count": 8,
     "metadata": {},
     "output_type": "execute_result"
    }
   ],
   "source": [
    "new_df['from'] = df['arr_line'] + df['arr_station']\n",
    "new_df['to'] = df['dest_line'] + df['dest_station']\n",
    "new_df.head()"
   ]
  },
  {
   "cell_type": "code",
   "execution_count": 9,
   "metadata": {},
   "outputs": [
    {
     "data": {
      "text/plain": [
       "array([[0, 0, 0, ..., 0, 0, 0],\n",
       "       [0, 0, 0, ..., 0, 0, 0],\n",
       "       [0, 0, 0, ..., 0, 0, 0],\n",
       "       ...,\n",
       "       [0, 0, 0, ..., 0, 0, 0],\n",
       "       [0, 0, 0, ..., 0, 0, 0],\n",
       "       [0, 0, 0, ..., 0, 0, 0]])"
      ]
     },
     "execution_count": 9,
     "metadata": {},
     "output_type": "execute_result"
    }
   ],
   "source": [
    "stations = np.unique([*new_df['from'], *new_df['to']])\n",
    "dim = stations.shape[0]\n",
    "adj_matrix = np.zeros([dim, dim], dtype='int')\n",
    "adj_matrix"
   ]
  },
  {
   "cell_type": "code",
   "execution_count": 10,
   "metadata": {},
   "outputs": [],
   "source": [
    "dict_stations = dict(zip(stations, range(stations.shape[0]))) \n",
    "rev_dict_stations = dict(zip(range(stations.shape[0]), stations)) "
   ]
  },
  {
   "cell_type": "code",
   "execution_count": 11,
   "metadata": {},
   "outputs": [],
   "source": [
    "df_num = new_df.copy()"
   ]
  },
  {
   "cell_type": "code",
   "execution_count": 12,
   "metadata": {},
   "outputs": [],
   "source": [
    "df_num['from'] = df_num['from'].map(dict_stations)\n",
    "df_num['to'] = df_num['to'].map(dict_stations)"
   ]
  },
  {
   "cell_type": "code",
   "execution_count": 13,
   "metadata": {},
   "outputs": [
    {
     "data": {
      "text/html": [
       "<div>\n",
       "<style scoped>\n",
       "    .dataframe tbody tr th:only-of-type {\n",
       "        vertical-align: middle;\n",
       "    }\n",
       "\n",
       "    .dataframe tbody tr th {\n",
       "        vertical-align: top;\n",
       "    }\n",
       "\n",
       "    .dataframe thead th {\n",
       "        text-align: right;\n",
       "    }\n",
       "</style>\n",
       "<table border=\"1\" class=\"dataframe\">\n",
       "  <thead>\n",
       "    <tr style=\"text-align: right;\">\n",
       "      <th></th>\n",
       "      <th>from</th>\n",
       "      <th>to</th>\n",
       "    </tr>\n",
       "  </thead>\n",
       "  <tbody>\n",
       "    <tr>\n",
       "      <td>0</td>\n",
       "      <td>164</td>\n",
       "      <td>158</td>\n",
       "    </tr>\n",
       "    <tr>\n",
       "      <td>1</td>\n",
       "      <td>158</td>\n",
       "      <td>160</td>\n",
       "    </tr>\n",
       "    <tr>\n",
       "      <td>2</td>\n",
       "      <td>160</td>\n",
       "      <td>152</td>\n",
       "    </tr>\n",
       "    <tr>\n",
       "      <td>3</td>\n",
       "      <td>152</td>\n",
       "      <td>151</td>\n",
       "    </tr>\n",
       "    <tr>\n",
       "      <td>4</td>\n",
       "      <td>151</td>\n",
       "      <td>153</td>\n",
       "    </tr>\n",
       "  </tbody>\n",
       "</table>\n",
       "</div>"
      ],
      "text/plain": [
       "   from   to\n",
       "0   164  158\n",
       "1   158  160\n",
       "2   160  152\n",
       "3   152  151\n",
       "4   151  153"
      ]
     },
     "execution_count": 13,
     "metadata": {},
     "output_type": "execute_result"
    }
   ],
   "source": [
    "df_num.head()"
   ]
  },
  {
   "cell_type": "code",
   "execution_count": 14,
   "metadata": {},
   "outputs": [],
   "source": [
    "data_l_in = list(df_num['from'])\n",
    "data_l_out = list(df_num['to'])\n",
    "for i in range(len(data_l_in)):\n",
    "    adj_matrix[data_l_out[i]][data_l_in[i]] = adj_matrix[data_l_in[i]][data_l_out[i]] = 1"
   ]
  },
  {
   "cell_type": "code",
   "execution_count": 15,
   "metadata": {
    "scrolled": true
   },
   "outputs": [
    {
     "name": "stdout",
     "output_type": "stream",
     "text": [
      "[0 0 0 0 0 0 0 0 1 0 1 0 0 0 0 0 0 0 0 0 0 0 0 0 0 0 0 0 0 0 0 0 0 0 0 0 0\n",
      " 0 0 0 0 0 0 0 0 0 0 0 0 0 0 0 0 0 0 0 0 0 0 0 0 0 0 0 0 0 0 0 0 0 0 0 0 0\n",
      " 0 0 0 0 0 0 0 0 0 0 0 0 0 0 0 0 0 0 0 0 0 0 0 0 0 0 0 0 0 0 0 0 0 0 0 0 0\n",
      " 0 0 0 0 0 0 0 0 0 0 0 0 0 0 0 0 0 0 0 0 0 0 0 0 0 0 0 0 0 0 0 0 0 0 0 0 0\n",
      " 0 0 0 0 0 0 0 0 0 0 0 0 0 0 0 0 0 0 0 0 0 0 0 0 0 0 0 0 0 0 0 0 0 0 0 0 0\n",
      " 0 0 0 0 0 0 0 0 0 0 0 0 0 0 0 0 0]\n"
     ]
    }
   ],
   "source": [
    "print(adj_matrix[2])"
   ]
  },
  {
   "cell_type": "code",
   "execution_count": 16,
   "metadata": {},
   "outputs": [
    {
     "data": {
      "text/plain": [
       "array([[0, 0, 0, ..., 0, 0, 0],\n",
       "       [0, 0, 0, ..., 0, 0, 0],\n",
       "       [0, 0, 0, ..., 0, 0, 0],\n",
       "       ...,\n",
       "       [0, 0, 0, ..., 0, 0, 0],\n",
       "       [0, 0, 0, ..., 0, 0, 0],\n",
       "       [0, 0, 0, ..., 0, 0, 0]])"
      ]
     },
     "execution_count": 16,
     "metadata": {},
     "output_type": "execute_result"
    }
   ],
   "source": [
    "adj_matrix"
   ]
  },
  {
   "cell_type": "code",
   "execution_count": 17,
   "metadata": {
    "scrolled": false
   },
   "outputs": [
    {
     "data": {
      "text/plain": [
       "[' Арбатско-Покровская линия Площадь Революции',\n",
       " ' Арбатско-Покровская линия Смоленская',\n",
       " ' Серпуховско-Тимирязевская линия Боровицкая',\n",
       " ' Сокольническая линия Библиотека имени Ленина',\n",
       " ' Филевская линия Александровский сад']"
      ]
     },
     "execution_count": 17,
     "metadata": {},
     "output_type": "execute_result"
    }
   ],
   "source": [
    "def neighbors(station: int) -> list:\n",
    "    list_neighbors = []\n",
    "    for i in range(len(adj_matrix[station])):\n",
    "        if adj_matrix[station][i] == 1:\n",
    "            list_neighbors.append(rev_dict_stations[i])\n",
    "    return list_neighbors\n",
    "neighbors(0)"
   ]
  },
  {
   "cell_type": "code",
   "execution_count": 18,
   "metadata": {},
   "outputs": [],
   "source": [
    "# def dijkstra(graph: 'np.ndarray', s:int, t:int)->'np.ndarray':\n",
    "#     '''finding the shortest paht between s-vertex & t-vertex'''\n",
    "#     size = len(graph[0])\n",
    "#     path = []\n",
    "#     dist = [np.inf for _ in range(size)]\n",
    "#     u = [False for _ in range(size)]\n",
    "    \n",
    "#     dist[s] = 0\n",
    "    \n",
    "#     for i in range(size):\n",
    "# #         cur = 0\n",
    "#         min_ = np.inf\n",
    "#         for j in range(size):\n",
    "#             if u[j] == False and dist[j] <= min_:\n",
    "#                 min_ = dist[j]\n",
    "#                 cur = j\n",
    "        \n",
    "#         u[cur] = True\n",
    "        \n",
    "#         for j in range(size):\n",
    "#             if graph[cur][j] > 0 and u[j] == False:\n",
    "#                 if dist[cur] + graph[cur][j] < dist[j]:\n",
    "#                     dist[j] = dist[cur] + graph[cur][j]\n",
    "    \n",
    "# #     print(dist)\n",
    "#     return dist"
   ]
  },
  {
   "cell_type": "code",
   "execution_count": 19,
   "metadata": {
    "scrolled": true
   },
   "outputs": [],
   "source": [
    "class Priority_queue(dict):\n",
    "    def __init__(self, *args, **kwargs):\n",
    "        dict.__init__(self, *args, **kwargs)\n",
    "        self.queue = sorted(self, key=lambda x: self[x])\n",
    "    def __setitem__(self, key, val):\n",
    "        dict.__setitem__(self, key, val)\n",
    "        if not self.queue:\n",
    "            self.queue.append(key)\n",
    "        else:\n",
    "            i = 0\n",
    "            while i < len(self.queue) and val >= self[self.queue[i]]:\n",
    "                i += 1\n",
    "            self.queue.insert(i, key)\n",
    "    def clear(self):\n",
    "        dict.clear(self)\n",
    "        self.queue.clear()\n",
    "    def pop(self):\n",
    "        key = self.queue[0]\n",
    "        value = self[key]\n",
    "        dict.pop(self, key)\n",
    "        self.queue.pop(0)\n",
    "        return key, value"
   ]
  },
  {
   "cell_type": "code",
   "execution_count": 20,
   "metadata": {},
   "outputs": [],
   "source": [
    "class Graph:\n",
    "    open_set = Priority_queue()\n",
    "    cost_map = {}\n",
    "    def __init__(self, matrix: \"np.darray\"):\n",
    "        self.matrix = matrix\n",
    "        self.dim = matrix.shape[0]\n",
    "        self.distance_matrix = np.zeros(matrix.shape, dtype='int')\n",
    "    \n",
    "    def _neighbors(self, vertex: int) -> list:\n",
    "        list_neighbors = []\n",
    "        for i in range(len(self.matrix[vertex])):\n",
    "            if self.matrix[vertex][i] == 1:\n",
    "                list_neighbors.append(i)\n",
    "        return list_neighbors\n",
    "    \n",
    "    def _update_open_set(self, vertex: int, cost: int):\n",
    "        neighbors = self._neighbors(vertex)\n",
    "        for i in neighbors:\n",
    "            if i in self.cost_map:\n",
    "                continue\n",
    "            path_cost = self.matrix[vertex][i] + cost\n",
    "            if i not in self.open_set:\n",
    "                self.open_set[i] = path_cost\n",
    "            else:\n",
    "                if self.open_set[i] > path_cost:\n",
    "                    self.open_set[i] = path_cost\n",
    "        \n",
    "    def _short_path(self, src: int, dst: int):\n",
    "        self.cost_map.clear()\n",
    "        self.open_set.clear()\n",
    "        self._update_open_set(src, 0)\n",
    "        while self.open_set:\n",
    "            min_vertex, min_cost = self.open_set.pop()\n",
    "            self.cost_map[min_vertex] = min_cost\n",
    "            if min_vertex == dst:\n",
    "                return\n",
    "            self._update_open_set(min_vertex, min_cost)\n",
    "            \n",
    "    def _path_size(self, src: int, dst: int) -> int:\n",
    "        if src == dst:\n",
    "            return 0\n",
    "        self._short_path(src, dst)\n",
    "        return self.cost_map[dst]\n",
    "    \n",
    "    def distances(self) -> \"np.darray\":\n",
    "        for i in range(self.dim):\n",
    "            for j in range(i+1, self.dim):\n",
    "                self.distance_matrix[i][j] = self.distance_matrix[j][i] = graph._path_size(i, j)\n",
    "        return self.distance_matrix\n"
   ]
  },
  {
   "cell_type": "code",
   "execution_count": 21,
   "metadata": {
    "scrolled": true
   },
   "outputs": [
    {
     "name": "stdout",
     "output_type": "stream",
     "text": [
      "CPU times: user 4min 23s, sys: 1.25 s, total: 4min 24s\n",
      "Wall time: 4min 28s\n"
     ]
    },
    {
     "data": {
      "text/plain": [
       "array([[ 0,  3, 10, ...,  4,  6,  8],\n",
       "       [ 3,  0, 13, ...,  7,  9, 11],\n",
       "       [10, 13,  0, ..., 10, 10,  8],\n",
       "       ...,\n",
       "       [ 4,  7, 10, ...,  0,  2,  4],\n",
       "       [ 6,  9, 10, ...,  2,  0,  2],\n",
       "       [ 8, 11,  8, ...,  4,  2,  0]])"
      ]
     },
     "execution_count": 21,
     "metadata": {},
     "output_type": "execute_result"
    }
   ],
   "source": [
    "%%time\n",
    "# лучше не запускать\n",
    "graph = Graph(adj_matrix)\n",
    "distances = graph.distances()\n",
    "distances"
   ]
  },
  {
   "cell_type": "code",
   "execution_count": 22,
   "metadata": {},
   "outputs": [
    {
     "data": {
      "text/html": [
       "<div>\n",
       "<style scoped>\n",
       "    .dataframe tbody tr th:only-of-type {\n",
       "        vertical-align: middle;\n",
       "    }\n",
       "\n",
       "    .dataframe tbody tr th {\n",
       "        vertical-align: top;\n",
       "    }\n",
       "\n",
       "    .dataframe thead th {\n",
       "        text-align: right;\n",
       "    }\n",
       "</style>\n",
       "<table border=\"1\" class=\"dataframe\">\n",
       "  <thead>\n",
       "    <tr style=\"text-align: right;\">\n",
       "      <th></th>\n",
       "      <th>0</th>\n",
       "      <th>1</th>\n",
       "      <th>2</th>\n",
       "      <th>3</th>\n",
       "      <th>4</th>\n",
       "      <th>5</th>\n",
       "      <th>6</th>\n",
       "      <th>7</th>\n",
       "      <th>8</th>\n",
       "      <th>9</th>\n",
       "      <th>...</th>\n",
       "      <th>192</th>\n",
       "      <th>193</th>\n",
       "      <th>194</th>\n",
       "      <th>195</th>\n",
       "      <th>196</th>\n",
       "      <th>197</th>\n",
       "      <th>198</th>\n",
       "      <th>199</th>\n",
       "      <th>200</th>\n",
       "      <th>201</th>\n",
       "    </tr>\n",
       "  </thead>\n",
       "  <tbody>\n",
       "    <tr>\n",
       "      <td>0</td>\n",
       "      <td>0</td>\n",
       "      <td>3</td>\n",
       "      <td>10</td>\n",
       "      <td>7</td>\n",
       "      <td>2</td>\n",
       "      <td>7</td>\n",
       "      <td>5</td>\n",
       "      <td>2</td>\n",
       "      <td>11</td>\n",
       "      <td>6</td>\n",
       "      <td>...</td>\n",
       "      <td>4</td>\n",
       "      <td>3</td>\n",
       "      <td>6</td>\n",
       "      <td>5</td>\n",
       "      <td>5</td>\n",
       "      <td>7</td>\n",
       "      <td>3</td>\n",
       "      <td>4</td>\n",
       "      <td>6</td>\n",
       "      <td>8</td>\n",
       "    </tr>\n",
       "    <tr>\n",
       "      <td>1</td>\n",
       "      <td>3</td>\n",
       "      <td>0</td>\n",
       "      <td>13</td>\n",
       "      <td>4</td>\n",
       "      <td>5</td>\n",
       "      <td>10</td>\n",
       "      <td>8</td>\n",
       "      <td>1</td>\n",
       "      <td>14</td>\n",
       "      <td>9</td>\n",
       "      <td>...</td>\n",
       "      <td>7</td>\n",
       "      <td>6</td>\n",
       "      <td>9</td>\n",
       "      <td>8</td>\n",
       "      <td>8</td>\n",
       "      <td>10</td>\n",
       "      <td>6</td>\n",
       "      <td>7</td>\n",
       "      <td>9</td>\n",
       "      <td>11</td>\n",
       "    </tr>\n",
       "    <tr>\n",
       "      <td>2</td>\n",
       "      <td>10</td>\n",
       "      <td>13</td>\n",
       "      <td>0</td>\n",
       "      <td>17</td>\n",
       "      <td>8</td>\n",
       "      <td>3</td>\n",
       "      <td>5</td>\n",
       "      <td>12</td>\n",
       "      <td>1</td>\n",
       "      <td>4</td>\n",
       "      <td>...</td>\n",
       "      <td>10</td>\n",
       "      <td>9</td>\n",
       "      <td>6</td>\n",
       "      <td>11</td>\n",
       "      <td>11</td>\n",
       "      <td>7</td>\n",
       "      <td>10</td>\n",
       "      <td>10</td>\n",
       "      <td>10</td>\n",
       "      <td>8</td>\n",
       "    </tr>\n",
       "    <tr>\n",
       "      <td>3</td>\n",
       "      <td>7</td>\n",
       "      <td>4</td>\n",
       "      <td>17</td>\n",
       "      <td>0</td>\n",
       "      <td>9</td>\n",
       "      <td>14</td>\n",
       "      <td>12</td>\n",
       "      <td>5</td>\n",
       "      <td>18</td>\n",
       "      <td>13</td>\n",
       "      <td>...</td>\n",
       "      <td>11</td>\n",
       "      <td>10</td>\n",
       "      <td>13</td>\n",
       "      <td>12</td>\n",
       "      <td>12</td>\n",
       "      <td>14</td>\n",
       "      <td>10</td>\n",
       "      <td>11</td>\n",
       "      <td>13</td>\n",
       "      <td>15</td>\n",
       "    </tr>\n",
       "    <tr>\n",
       "      <td>4</td>\n",
       "      <td>2</td>\n",
       "      <td>5</td>\n",
       "      <td>8</td>\n",
       "      <td>9</td>\n",
       "      <td>0</td>\n",
       "      <td>5</td>\n",
       "      <td>3</td>\n",
       "      <td>4</td>\n",
       "      <td>9</td>\n",
       "      <td>4</td>\n",
       "      <td>...</td>\n",
       "      <td>2</td>\n",
       "      <td>1</td>\n",
       "      <td>4</td>\n",
       "      <td>3</td>\n",
       "      <td>3</td>\n",
       "      <td>5</td>\n",
       "      <td>2</td>\n",
       "      <td>2</td>\n",
       "      <td>4</td>\n",
       "      <td>6</td>\n",
       "    </tr>\n",
       "  </tbody>\n",
       "</table>\n",
       "<p>5 rows × 202 columns</p>\n",
       "</div>"
      ],
      "text/plain": [
       "   0    1    2    3    4    5    6    7    8    9    ...  192  193  194  195  \\\n",
       "0    0    3   10    7    2    7    5    2   11    6  ...    4    3    6    5   \n",
       "1    3    0   13    4    5   10    8    1   14    9  ...    7    6    9    8   \n",
       "2   10   13    0   17    8    3    5   12    1    4  ...   10    9    6   11   \n",
       "3    7    4   17    0    9   14   12    5   18   13  ...   11   10   13   12   \n",
       "4    2    5    8    9    0    5    3    4    9    4  ...    2    1    4    3   \n",
       "\n",
       "   196  197  198  199  200  201  \n",
       "0    5    7    3    4    6    8  \n",
       "1    8   10    6    7    9   11  \n",
       "2   11    7   10   10   10    8  \n",
       "3   12   14   10   11   13   15  \n",
       "4    3    5    2    2    4    6  \n",
       "\n",
       "[5 rows x 202 columns]"
      ]
     },
     "execution_count": 22,
     "metadata": {},
     "output_type": "execute_result"
    }
   ],
   "source": [
    "df_dist = pd.DataFrame(distances)\n",
    "df_dist.to_csv(\"distance_data.csv\")\n",
    "df_dist.head()"
   ]
  },
  {
   "cell_type": "code",
   "execution_count": 23,
   "metadata": {},
   "outputs": [],
   "source": [
    "df_names = pd.DataFrame(stations, columns=['name'])\n",
    "df_names['coffee'] = 0\n",
    "df_names['tea'] = 0"
   ]
  },
  {
   "cell_type": "code",
   "execution_count": 24,
   "metadata": {},
   "outputs": [],
   "source": [
    "tea_map = {' Замоскворецкая линия Царицыно': 2, ' Таганско-Краснопресненская линия Текстильщики': 1, '  Замоскворецкая линия Войковская': 2, ' Калужско-Рижская линия Бабушкинская': 1, ' Серпуховско-Тимирязевская линия Отрадное': 1, ' Замоскворецкая линия Орехово': 1, ' Замоскворецкая линия Ховрино': 1}\n",
    "coffee_map = {' Калужско-Рижская линия Академическая': 1, ' Серпуховско-Тимирязевская линия Тимирязевская': 1, ' Люблинская линия Окружная': 1, ' Арбатско-Покровская линия Молодёжная': 1, '  Люблинская линия Бутырская': 1, ' Кольцевая линия Комсомольская': 1, ' Замоскворецкая линия Речной вокзал': 1, ' Замоскворецкая линия Войковская': 2, ' Замоскворецкая линия Сокол': 1}\n",
    "\n",
    "\n"
   ]
  },
  {
   "cell_type": "code",
   "execution_count": 25,
   "metadata": {
    "scrolled": true
   },
   "outputs": [
    {
     "name": "stdout",
     "output_type": "stream",
     "text": [
      "{' Калужско-Рижская линия Академическая': 1, ' Серпуховско-Тимирязевская линия Тимирязевская': 1, ' Люблинская линия Окружная': 1, ' Арбатско-Покровская линия Молодёжная': 1, '  Люблинская линия Бутырская': 1, ' Кольцевая линия Комсомольская': 1, ' Замоскворецкая линия Речной вокзал': 1, ' Замоскворецкая линия Войковская': 2, ' Замоскворецкая линия Сокол': 1}\n",
      "\n",
      "{' Замоскворецкая линия Царицыно': 2, ' Таганско-Краснопресненская линия Текстильщики': 1, '  Замоскворецкая линия Войковская': 2, ' Калужско-Рижская линия Бабушкинская': 1, ' Серпуховско-Тимирязевская линия Отрадное': 1, ' Замоскворецкая линия Орехово': 1, ' Замоскворецкая линия Ховрино': 1}\n"
     ]
    }
   ],
   "source": [
    "print(coffee_map, tea_map, sep= '\\n\\n')"
   ]
  },
  {
   "cell_type": "code",
   "execution_count": 26,
   "metadata": {
    "scrolled": true
   },
   "outputs": [
    {
     "data": {
      "text/html": [
       "<div>\n",
       "<style scoped>\n",
       "    .dataframe tbody tr th:only-of-type {\n",
       "        vertical-align: middle;\n",
       "    }\n",
       "\n",
       "    .dataframe tbody tr th {\n",
       "        vertical-align: top;\n",
       "    }\n",
       "\n",
       "    .dataframe thead th {\n",
       "        text-align: right;\n",
       "    }\n",
       "</style>\n",
       "<table border=\"1\" class=\"dataframe\">\n",
       "  <thead>\n",
       "    <tr style=\"text-align: right;\">\n",
       "      <th></th>\n",
       "      <th>name</th>\n",
       "      <th>coffee</th>\n",
       "      <th>tea</th>\n",
       "    </tr>\n",
       "  </thead>\n",
       "  <tbody>\n",
       "    <tr>\n",
       "      <td>0</td>\n",
       "      <td>Арбатско-Покровская линия Арбатская</td>\n",
       "      <td>0</td>\n",
       "      <td>0</td>\n",
       "    </tr>\n",
       "    <tr>\n",
       "      <td>1</td>\n",
       "      <td>Арбатско-Покровская линия Бауманская</td>\n",
       "      <td>0</td>\n",
       "      <td>0</td>\n",
       "    </tr>\n",
       "    <tr>\n",
       "      <td>2</td>\n",
       "      <td>Арбатско-Покровская линия Волоколамская</td>\n",
       "      <td>0</td>\n",
       "      <td>0</td>\n",
       "    </tr>\n",
       "    <tr>\n",
       "      <td>3</td>\n",
       "      <td>Арбатско-Покровская линия Измайловская</td>\n",
       "      <td>0</td>\n",
       "      <td>0</td>\n",
       "    </tr>\n",
       "    <tr>\n",
       "      <td>4</td>\n",
       "      <td>Арбатско-Покровская линия Киевская</td>\n",
       "      <td>0</td>\n",
       "      <td>0</td>\n",
       "    </tr>\n",
       "    <tr>\n",
       "      <td>5</td>\n",
       "      <td>Арбатско-Покровская линия Крылатское</td>\n",
       "      <td>0</td>\n",
       "      <td>0</td>\n",
       "    </tr>\n",
       "    <tr>\n",
       "      <td>6</td>\n",
       "      <td>Арбатско-Покровская линия Кунцевская</td>\n",
       "      <td>0</td>\n",
       "      <td>0</td>\n",
       "    </tr>\n",
       "    <tr>\n",
       "      <td>7</td>\n",
       "      <td>Арбатско-Покровская линия Курская</td>\n",
       "      <td>0</td>\n",
       "      <td>0</td>\n",
       "    </tr>\n",
       "    <tr>\n",
       "      <td>8</td>\n",
       "      <td>Арбатско-Покровская линия Митино</td>\n",
       "      <td>0</td>\n",
       "      <td>0</td>\n",
       "    </tr>\n",
       "    <tr>\n",
       "      <td>9</td>\n",
       "      <td>Арбатско-Покровская линия Молодёжная</td>\n",
       "      <td>0</td>\n",
       "      <td>0</td>\n",
       "    </tr>\n",
       "  </tbody>\n",
       "</table>\n",
       "</div>"
      ],
      "text/plain": [
       "                                       name  coffee  tea\n",
       "0       Арбатско-Покровская линия Арбатская       0    0\n",
       "1      Арбатско-Покровская линия Бауманская       0    0\n",
       "2   Арбатско-Покровская линия Волоколамская       0    0\n",
       "3    Арбатско-Покровская линия Измайловская       0    0\n",
       "4        Арбатско-Покровская линия Киевская       0    0\n",
       "5      Арбатско-Покровская линия Крылатское       0    0\n",
       "6      Арбатско-Покровская линия Кунцевская       0    0\n",
       "7         Арбатско-Покровская линия Курская       0    0\n",
       "8          Арбатско-Покровская линия Митино       0    0\n",
       "9      Арбатско-Покровская линия Молодёжная       0    0"
      ]
     },
     "execution_count": 26,
     "metadata": {},
     "output_type": "execute_result"
    }
   ],
   "source": [
    "df_names.head(10)"
   ]
  },
  {
   "cell_type": "code",
   "execution_count": 27,
   "metadata": {},
   "outputs": [],
   "source": [
    "for i, row in df_names[df_names['name'].isin(coffee_map.keys())].iterrows():\n",
    "    df_names.at[i, 'coffee'] = coffee_map[df_names.at[i, 'name']]\n",
    "for i, row in df_names[df_names['name'].isin(tea_map.keys())].iterrows():\n",
    "    df_names.at[i, 'tea'] = tea_map[df_names.at[i, 'name']]\n"
   ]
  },
  {
   "cell_type": "code",
   "execution_count": 28,
   "metadata": {},
   "outputs": [
    {
     "data": {
      "text/html": [
       "<div>\n",
       "<style scoped>\n",
       "    .dataframe tbody tr th:only-of-type {\n",
       "        vertical-align: middle;\n",
       "    }\n",
       "\n",
       "    .dataframe tbody tr th {\n",
       "        vertical-align: top;\n",
       "    }\n",
       "\n",
       "    .dataframe thead th {\n",
       "        text-align: right;\n",
       "    }\n",
       "</style>\n",
       "<table border=\"1\" class=\"dataframe\">\n",
       "  <thead>\n",
       "    <tr style=\"text-align: right;\">\n",
       "      <th></th>\n",
       "      <th>name</th>\n",
       "      <th>coffee</th>\n",
       "      <th>tea</th>\n",
       "    </tr>\n",
       "  </thead>\n",
       "  <tbody>\n",
       "    <tr>\n",
       "      <td>9</td>\n",
       "      <td>Арбатско-Покровская линия Молодёжная</td>\n",
       "      <td>1</td>\n",
       "      <td>0</td>\n",
       "    </tr>\n",
       "    <tr>\n",
       "      <td>46</td>\n",
       "      <td>Замоскворецкая линия Речной вокзал</td>\n",
       "      <td>1</td>\n",
       "      <td>0</td>\n",
       "    </tr>\n",
       "    <tr>\n",
       "      <td>47</td>\n",
       "      <td>Замоскворецкая линия Сокол</td>\n",
       "      <td>1</td>\n",
       "      <td>0</td>\n",
       "    </tr>\n",
       "    <tr>\n",
       "      <td>62</td>\n",
       "      <td>Калужско-Рижская линия Академическая</td>\n",
       "      <td>1</td>\n",
       "      <td>0</td>\n",
       "    </tr>\n",
       "    <tr>\n",
       "      <td>92</td>\n",
       "      <td>Кольцевая линия Комсомольская</td>\n",
       "      <td>1</td>\n",
       "      <td>0</td>\n",
       "    </tr>\n",
       "    <tr>\n",
       "      <td>114</td>\n",
       "      <td>Люблинская линия Окружная</td>\n",
       "      <td>1</td>\n",
       "      <td>0</td>\n",
       "    </tr>\n",
       "    <tr>\n",
       "      <td>142</td>\n",
       "      <td>Серпуховско-Тимирязевская линия Тимирязевская</td>\n",
       "      <td>1</td>\n",
       "      <td>0</td>\n",
       "    </tr>\n",
       "  </tbody>\n",
       "</table>\n",
       "</div>"
      ],
      "text/plain": [
       "                                               name  coffee  tea\n",
       "9              Арбатско-Покровская линия Молодёжная       1    0\n",
       "46               Замоскворецкая линия Речной вокзал       1    0\n",
       "47                       Замоскворецкая линия Сокол       1    0\n",
       "62             Калужско-Рижская линия Академическая       1    0\n",
       "92                    Кольцевая линия Комсомольская       1    0\n",
       "114                       Люблинская линия Окружная       1    0\n",
       "142   Серпуховско-Тимирязевская линия Тимирязевская       1    0"
      ]
     },
     "execution_count": 28,
     "metadata": {},
     "output_type": "execute_result"
    }
   ],
   "source": [
    "df_names[df_names['coffee'] == 1]"
   ]
  },
  {
   "cell_type": "code",
   "execution_count": 29,
   "metadata": {},
   "outputs": [
    {
     "data": {
      "text/html": [
       "<div>\n",
       "<style scoped>\n",
       "    .dataframe tbody tr th:only-of-type {\n",
       "        vertical-align: middle;\n",
       "    }\n",
       "\n",
       "    .dataframe tbody tr th {\n",
       "        vertical-align: top;\n",
       "    }\n",
       "\n",
       "    .dataframe thead th {\n",
       "        text-align: right;\n",
       "    }\n",
       "</style>\n",
       "<table border=\"1\" class=\"dataframe\">\n",
       "  <thead>\n",
       "    <tr style=\"text-align: right;\">\n",
       "      <th></th>\n",
       "      <th>name</th>\n",
       "      <th>coffee</th>\n",
       "      <th>tea</th>\n",
       "    </tr>\n",
       "  </thead>\n",
       "  <tbody>\n",
       "    <tr>\n",
       "      <td>44</td>\n",
       "      <td>Замоскворецкая линия Орехово</td>\n",
       "      <td>0</td>\n",
       "      <td>1</td>\n",
       "    </tr>\n",
       "    <tr>\n",
       "      <td>50</td>\n",
       "      <td>Замоскворецкая линия Ховрино</td>\n",
       "      <td>0</td>\n",
       "      <td>1</td>\n",
       "    </tr>\n",
       "    <tr>\n",
       "      <td>64</td>\n",
       "      <td>Калужско-Рижская линия Бабушкинская</td>\n",
       "      <td>0</td>\n",
       "      <td>1</td>\n",
       "    </tr>\n",
       "    <tr>\n",
       "      <td>135</td>\n",
       "      <td>Серпуховско-Тимирязевская линия Отрадное</td>\n",
       "      <td>0</td>\n",
       "      <td>1</td>\n",
       "    </tr>\n",
       "    <tr>\n",
       "      <td>185</td>\n",
       "      <td>Таганско-Краснопресненская линия Текстильщики</td>\n",
       "      <td>0</td>\n",
       "      <td>1</td>\n",
       "    </tr>\n",
       "  </tbody>\n",
       "</table>\n",
       "</div>"
      ],
      "text/plain": [
       "                                               name  coffee  tea\n",
       "44                     Замоскворецкая линия Орехово       0    1\n",
       "50                     Замоскворецкая линия Ховрино       0    1\n",
       "64              Калужско-Рижская линия Бабушкинская       0    1\n",
       "135        Серпуховско-Тимирязевская линия Отрадное       0    1\n",
       "185   Таганско-Краснопресненская линия Текстильщики       0    1"
      ]
     },
     "execution_count": 29,
     "metadata": {},
     "output_type": "execute_result"
    }
   ],
   "source": [
    "df_names[df_names['tea'] == 1]"
   ]
  },
  {
   "cell_type": "code",
   "execution_count": 30,
   "metadata": {},
   "outputs": [],
   "source": [
    "df_dist['coffee'] = df_names['coffee']\n",
    "df_dist['tea'] = df_names['tea']"
   ]
  },
  {
   "cell_type": "code",
   "execution_count": 31,
   "metadata": {},
   "outputs": [
    {
     "data": {
      "text/plain": [
       "9       6\n",
       "35      9\n",
       "46     11\n",
       "47      8\n",
       "62      8\n",
       "92      4\n",
       "114    10\n",
       "142     7\n",
       "Name: 0, dtype: int64"
      ]
     },
     "execution_count": 31,
     "metadata": {},
     "output_type": "execute_result"
    }
   ],
   "source": [
    "df_dist[df_dist['coffee'] != 0][0] "
   ]
  },
  {
   "cell_type": "code",
   "execution_count": 32,
   "metadata": {},
   "outputs": [],
   "source": [
    "def guess_class(x: int, k: int):\n",
    "    \"определение класса для станции x по k соседям\"\n",
    "    return"
   ]
  },
  {
   "cell_type": "code",
   "execution_count": 33,
   "metadata": {},
   "outputs": [],
   "source": [
    "def guess_class(x,y,k):\n",
    "    '''\n",
    "        Функция отрисовки окрестности точки (x,y) и функция поиска расстояния между точками b,c на плоскости\n",
    "    '''\n",
    "    def draw_points(x,y):\n",
    "        plt.figure(figsize=(5,5))\n",
    "        plt.grid(ls='--')\n",
    "        plt.scatter(a,blues,c='b')\n",
    "        plt.scatter(a,reds,c='r')\n",
    "        plt.scatter(x,y,c='g')\n",
    "        plt.xlim(x-7, x+7)\n",
    "        plt.ylim(y-7, y+7)\n",
    "    draw_points(x,y)\n",
    "    \n",
    "    def distance_2d(b,c):\n",
    "        return np.sqrt((b[0]-c[0])**2+(b[1]-c[1])**2)\n",
    "    '''\n",
    "        Функция подсчета расстояний между ближайшими k точками\n",
    "    '''\n",
    "    def calculate_k_distances(class_points,l):\n",
    "        distances = []\n",
    "        labels = []\n",
    "        for point in class_points:\n",
    "            # считаем расстояние от точки до точки класса\n",
    "            distances.append(distance_2d(point,[x,y]))\n",
    "        distances = np.sort(distances)[::-1]\n",
    "        return [(x,l) for x in distances[:k]]  \n",
    "             \n",
    "    b = np.array(calculate_k_distances(blue_pairs,'b')) # расстояния до ближайших k соседей класса blue\n",
    "    r = np.array(calculate_k_distances(red_pairs,'r')) # расстояния до ближайших k соседей класса red\n",
    "    \n",
    "    print('Ближайшие {} синих соседей'.format(k),b)\n",
    "    print('Ближайшие {} красных соседей'.format(k),r)\n",
    "    nearest_k_dists = pd.DataFrame(np.concatenate((b,r)),\n",
    "                                   columns=['distance', 'label']).sort_values(by='distance',\n",
    "                                                                              ascending=False)[::-1][:k]\n",
    "    print('======================================================')\n",
    "    print(nearest_k_dists)\n",
    "    r, b =0, 0 \n",
    "    for i in range(2*k):\n",
    "        try:\n",
    "            if nearest_k_dists['label'][i] == 'r':\n",
    "                r += 1\n",
    "            else:\n",
    "                b += 1\n",
    "        except:\n",
    "            continue\n",
    "    if r > b :\n",
    "        print('red')\n",
    "    else:\n",
    "        print('blue')"
   ]
  },
  {
   "cell_type": "code",
   "execution_count": null,
   "metadata": {},
   "outputs": [],
   "source": []
  }
 ],
 "metadata": {
  "kernelspec": {
   "display_name": "Python 3",
   "language": "python",
   "name": "python3"
  },
  "language_info": {
   "codemirror_mode": {
    "name": "ipython",
    "version": 3
   },
   "file_extension": ".py",
   "mimetype": "text/x-python",
   "name": "python",
   "nbconvert_exporter": "python",
   "pygments_lexer": "ipython3",
   "version": "3.7.4"
  }
 },
 "nbformat": 4,
 "nbformat_minor": 2
}
